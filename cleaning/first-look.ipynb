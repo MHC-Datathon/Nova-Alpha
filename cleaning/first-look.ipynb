{
 "cells": [
  {
   "cell_type": "markdown",
   "id": "cb117560",
   "metadata": {},
   "source": [
    "## Datathon: MTA Bus Violations First Look"
   ]
  },
  {
   "cell_type": "markdown",
   "id": "ae1640e4",
   "metadata": {},
   "source": [
    "### Transfering csv to db (for SQLite querying):"
   ]
  },
  {
   "cell_type": "code",
   "execution_count": null,
   "id": "dc364583",
   "metadata": {},
   "outputs": [],
   "source": [
    "# for teammates\n",
    "\n",
    "# imports\n",
    "import pandas as pd\n",
    "import numpy as np\n",
    "import sqlite3\n",
    "\n",
    "# To make it a .db\n",
    "df = pd.read_csv('(path-to-csv)')\n",
    "conn = sqlite3.connect('(path-where-you-want-it)/mta_bus.db')\n",
    "df.to_sql('enforcement_violations', conn, if_exists='replace', index=False)\n",
    "conn.close()"
   ]
  },
  {
   "cell_type": "markdown",
   "id": "b379b823",
   "metadata": {},
   "source": [
    "***\n",
    "\n"
   ]
  },
  {
   "cell_type": "markdown",
   "id": "92e75e2a",
   "metadata": {},
   "source": [
    "### Querying the Dataset\n",
    "##### For use in the Tableau Dashboard:"
   ]
  },
  {
   "cell_type": "code",
   "execution_count": 8,
   "id": "e51cc43a",
   "metadata": {},
   "outputs": [],
   "source": [
    "path = '/Users/Marcy_Student/Desktop/Passion-Projects/Datathon-September-2025/data/mta_bus.db'\n",
    "conn = sqlite3.connect(path)\n",
    "cursor = conn.cursor()"
   ]
  },
  {
   "cell_type": "code",
   "execution_count": null,
   "id": "2174e450",
   "metadata": {},
   "outputs": [],
   "source": [
    "# count of all tickets per bus stop (including exempt)\n",
    "query1 = \"\"\"\n",
    "SELECT stop_name, bus_stop_latitude, bus_stop_longitude, COUNT(violation_ID) AS ticket_count\n",
    "FROM enforcement_violations\n",
    "GROUP BY bus_stop_latitude, bus_stop_longitude;\n",
    "\"\"\"\n",
    "\n",
    "df1 = pd.read_sql_query(query1, conn)\n",
    "df1.to_csv('/Users/Marcy_Student/Desktop/Passion-Projects/Datathon-September-2025/data/ticket_count_buststop.csv')"
   ]
  },
  {
   "cell_type": "code",
   "execution_count": 9,
   "id": "dff400e6",
   "metadata": {},
   "outputs": [],
   "source": [
    "# count of non-exempt tickets per bus stop\n",
    "query2 = \"\"\"\n",
    "-- count of non-exempt tickets per bus stop\n",
    "WITH non_exempt AS (\n",
    "SELECT violation_ID, stop_name, Borough, bus_stop_georeference, bus_stop_latitude, bus_stop_longitude\n",
    "FROM enforcement_violations\n",
    "WHERE violation_status NOT LIKE 'EXEMPT%'\n",
    ")\n",
    "SELECT stop_name, Borough, bus_stop_georeference, bus_stop_latitude, bus_stop_longitude, COUNT(violation_ID) AS ticket_count\n",
    "FROM non_exempt\n",
    "GROUP BY bus_stop_georeference;\n",
    "\"\"\"\n",
    "\n",
    "df2 = pd.read_sql_query(query2, conn)\n",
    "df2.to_csv('/Users/Marcy_Student/Desktop/Passion-Projects/Datathon-September-2025/data/non-exempt2.csv')"
   ]
  }
 ],
 "metadata": {
  "kernelspec": {
   "display_name": "data-analysis-env",
   "language": "python",
   "name": "python3"
  },
  "language_info": {
   "codemirror_mode": {
    "name": "ipython",
    "version": 3
   },
   "file_extension": ".py",
   "mimetype": "text/x-python",
   "name": "python",
   "nbconvert_exporter": "python",
   "pygments_lexer": "ipython3",
   "version": "3.9.22"
  }
 },
 "nbformat": 4,
 "nbformat_minor": 5
}
